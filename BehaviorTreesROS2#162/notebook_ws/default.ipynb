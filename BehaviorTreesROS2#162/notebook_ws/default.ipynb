{
 "cells": [
  {
   "cell_type": "markdown",
   "metadata": {
    "colab_type": "text",
    "id": "VKVmOzupi70R"
   },
   "source": [
    "<img src=\"images/logos/The-Construct-logo-new.png\" width=\"700\">"
   ]
  },
  {
   "cell_type": "markdown",
   "metadata": {},
   "source": [
    "# PRESENTS..."
   ]
  },
  {
   "cell_type": "markdown",
   "metadata": {},
   "source": [
    "# ROS Developers Open Class n.162"
   ]
  },
  {
   "cell_type": "markdown",
   "metadata": {},
   "source": [
    "<img src=\"images/bt-ros2.jpeg\" width=\"650\" />"
   ]
  },
  {
   "cell_type": "markdown",
   "metadata": {},
   "source": [
    "## How to Launch the Simulation"
   ]
  },
  {
   "cell_type": "markdown",
   "metadata": {},
   "source": [
    "To start the simulation, first we'll need to source our workspace:\n",
    "\n",
    "- Open a terminal window by clicking on the shell icon on the bottom left side of your screen:\n",
    "\n",
    "<img src=\"images/shell-superapp.png\" width=\"450\" />\n",
    "\n",
    "- Copy and paste the following terminal commands in your shell:\n"
   ]
  },
  {
   "cell_type": "markdown",
   "metadata": {},
   "source": [
    "<span class=\"badge badge-pill badge-primary\">\n",
    "    <i class=\"fa fa-play\"></i>\n",
    "    &nbsp;\n",
    "    Execute in Shell\n",
    "</span>"
   ]
  },
  {
   "cell_type": "code",
   "execution_count": null,
   "metadata": {},
   "outputs": [],
   "source": [
    "source ~/ros2_ws/install/setup.bash\n",
    "ros2 launch my_package launch_world_unit1.launch.py"
   ]
  },
  {
   "cell_type": "markdown",
   "metadata": {},
   "source": [
    "And that's it! You should be able to see the simulation and control everything as if it was the real robot if you go to the Gazebo button in the bottom left side of your screen:\n",
    "\n",
    "<img src=\"images/gazebo-icon.png\" width=\"100\" />\n",
    "\n",
    "\n",
    "**Wait around 30 seconds maximum** for the simulaion to start and you should see this simulation now:\n",
    "\n",
    "\n",
    "<img src=\"images/bt-sim1.png\" width=\"800\" />"
   ]
  },
  {
   "cell_type": "markdown",
   "metadata": {
    "colab_type": "text",
    "id": "VKVmOzupi70R"
   },
   "source": [
    "<div class=\"jumbotron m-0\">\n",
    "    <hr />\n",
    "    <h1 class=\"text-center\">\n",
    "        <span class=\"text-primary\">\n",
    "            Behavior Trees for ROS2\n",
    "        </span>\n",
    "    </h1>\n",
    "    <hr />\n",
    "</div>"
   ]
  },
  {
   "cell_type": "markdown",
   "metadata": {},
   "source": [
    "<div>\n",
    "    <h2 class=\"text-center\">\n",
    "        <span class=\"text-primary\">2.1</span>\n",
    "        &nbsp;\n",
    "        <span class=\"\">Software Architecture. Behavior Trees - ROS2</span>\n",
    "    </h2>\n",
    "</div>"
   ]
  },
  {
   "cell_type": "markdown",
   "metadata": {},
   "source": [
    "Behavior trees (BTs) can be defines with the following characteristics:\n",
    "\n",
    "* **Behavior trees are trees**: They start at a root node and are designed to be traversed in a specific order until a terminal state is reached (success or failure).\n",
    "\n",
    "* **Leaf nodes are executable behaviors**: Each leaf will do something, whether it’s a simple check or a complex action, and will output a status (success, failure, or running). In other words, leaf nodes are where you connect a BT to the lower-level code for your specific application.\n",
    "\n",
    "* **Internal nodes control tree traversal**: The internal (non-leaf) nodes of the tree will accept the resulting status of their children and apply their own rules to dictate which node should be expanded next."
   ]
  },
  {
   "cell_type": "markdown",
   "metadata": {},
   "source": [
    "As the course will discuss the Behaviour Tree framework, especially in the ROS2 domain, you must understand that BT is not the only framework dedicated to ROS. The BT framework can be incorporated into any other software where you develop your application (here, in C++). The gaming industry is a good example of BT advancing the user experience. The possibilities are enormous.\n",
    "\n",
    "Let's start by trying to understand the following figure (**Important!**):"
   ]
  },
  {
   "cell_type": "markdown",
   "metadata": {},
   "source": [
    "<img src=\"images/u1_0a.png\" width=\"1600\" />"
   ]
  },
  {
   "cell_type": "markdown",
   "metadata": {},
   "source": [
    "As you can see, the BT framework can be run without ROS.\n",
    "* In this case, BT provides abstract mechanisms (built in C++) which allow you to architect your BT and imagine the logical connections inside your application. For example, suppose you develop a game. In that case, the BT can be related to the game's performance or define how the game characters behave in certain game situations, etc. In this context, the BT framework provides the mechanisms to support logical/abstract relations between the C++ classes, which methods are called according to the structure of your application's logical tree.  "
   ]
  },
  {
   "cell_type": "markdown",
   "metadata": {},
   "source": [
    "**With regard to robotics specifically, abstraction has allowed you to shift from low-level task control and fundamental sensing to higher-level behaviors.**"
   ]
  },
  {
   "cell_type": "markdown",
   "metadata": {},
   "source": [
    "When designing a robot system, it is still important to consider how the robot's fundamental components (low-level actions) perform the given tasks and look for optimization (e.g., boost the performance of path algorithms by adding heuristics).\n",
    "\n",
    "**However, to build the architecture of the whole robot application, move to a higher level of programming abstraction, meaning evaluating the task like in the example, path planner as a simple component (consider the below figure).**\n",
    "\n",
    "BT allows robot architects to orchestrate decision-making maps for the robot applications."
   ]
  },
  {
   "cell_type": "markdown",
   "metadata": {},
   "source": [
    "<img src=\"images/u1_1.png\" width=\"1200\" />"
   ]
  },
  {
   "cell_type": "markdown",
   "metadata": {},
   "source": [
    "Depicted BT blocks will be formulated later. However, the **symbol $\\longrightarrow$** is considered a logical AND operation (Sequence), since the **symbol “?”** defines logical OR (Fallback). Taking into account logical operators, you can derive how the robot behaves.\n",
    "The robot must first find, pick, and place the ball. Picking operations require the execution of specific actions. "
   ]
  },
  {
   "cell_type": "markdown",
   "metadata": {},
   "source": [
    "All actions underneath the **Sequence** block must be succeeded to succeed in the “branch of a tree”. For the Fallback block, however, only one action must succeed to terminate (Succeed) the execution of actions (in that branch of the tree).\n",
    "Come back to the picking operation. You can see that picking requires two actions to succeed (**Fallbacks**). If the ball is close and the grasp ball is successful, the branch (picking action is completed) and the place operation can be continued. The tree executed will succeed if the last robot places the ball.\n",
    "\n",
    "Considering the sets of simple components (tasks), you can easily compose and orchestrate the Root's behavior while interacting with the environment and performing the planned tasks.\n",
    "\n",
    "Mapping the robot tasks in the hierarchical BT brings an opportunity for (from the human perspective) seamless understanding and modeling of complex robot tasks. You can imagine the construction of BT (mapping task into a hierarchical tree) is considered higher-level abstraction programming."
   ]
  },
  {
   "cell_type": "markdown",
   "metadata": {},
   "source": [
    "**In the introduction, we mentioned the BehaviourTree.CPP framework.** Since it is too early for deep discussion, we recommend you run a C++ simulation of the above BT. The details will be given in the next unit.\n",
    "\n",
    "**To architect the BT of the robot application, first, specify the logical context of the application and model consistent connections between specific robot actions and behaviors (details later). Logical context is expressed in the XML file.** The definition of nodes, classes, and functions are defined in BehaviourTree.CPP framework. Take a look at how you define the BT logic in XML. \n",
    "\n",
    "Please run \"colcon build\" and study the output."
   ]
  },
  {
   "cell_type": "markdown",
   "metadata": {},
   "source": [
    "<div class=\"bg-success text-center\">\n",
    "    - Exercise 1 -\n",
    "</div>"
   ]
  },
  {
   "cell_type": "markdown",
   "metadata": {},
   "source": [
    "This is your first C++ program using the BT framework. First, study the comments that apply to the applications in this course, study program, and comments, bearing in mind the above figure where the simplified architecture was discussed.\n",
    "\n",
    "You can find the below C++ script in the following path: **`/home/user/ros2_ws/src/bt_course_files/BehaviorTree.CPP/course_bt`**"
   ]
  },
  {
   "cell_type": "markdown",
   "metadata": {},
   "source": [
    "Run the program and evaluate the result. Consider the BT diagram."
   ]
  },
  {
   "cell_type": "markdown",
   "metadata": {},
   "source": [
    "<span class=\"badge badge-pill badge-primary\">\n",
    "    <i class=\"fa fa-play\"></i>\n",
    "    &nbsp;\n",
    "    Execute in Shell\n",
    "</span>"
   ]
  },
  {
   "cell_type": "code",
   "execution_count": null,
   "metadata": {},
   "outputs": [],
   "source": [
    "source ~/ros2_ws/install/setup.bash"
   ]
  },
  {
   "cell_type": "code",
   "execution_count": null,
   "metadata": {},
   "outputs": [],
   "source": [
    "cd ~/ros2_ws/src/bt_course_files/BehaviorTree.CPP/build/course_bt"
   ]
  },
  {
   "cell_type": "code",
   "execution_count": null,
   "metadata": {},
   "outputs": [],
   "source": [
    "./bt_u2_ex1"
   ]
  },
  {
   "cell_type": "markdown",
   "metadata": {},
   "source": [
    "<span class=\"badge badge-pill badge-primary\">\n",
    "    <i class=\"fa fa-play\"></i>\n",
    "    &nbsp;\n",
    "    Expected output\n",
    "</span>"
   ]
  },
  {
   "cell_type": "code",
   "execution_count": null,
   "metadata": {},
   "outputs": [],
   "source": [
    "FindBall: ball_ok\n",
    "[ Close to ball: NO ]\n",
    "ApproachBall: approach_ball\n",
    "[ Grasped: NO ]\n",
    "GripperInterface::close\n",
    "PlaceBall: ball_placed"
   ]
  },
  {
   "cell_type": "markdown",
   "metadata": {},
   "source": [
    "<div class=\"bg-primary text-center\">\n",
    "    - Short output analysis -\n",
    "</div>"
   ]
  },
  {
   "cell_type": "markdown",
   "metadata": {},
   "source": [
    "* The robot task can be comprehended as one sequential task - the analogous is a AND logical function.\n",
    "* The robot looks for the ball. \n",
    "* The robot finds the ball, so the node prints: ball_ok.\n",
    "* The next task for the robot is to pick up the ball. \n",
    "* As you can see, this task consists of two subtasks.\n",
    "  The ball is not visible to the robot (the ball is not close) - the node print [ Close to the ball: NO ].\n",
    "* The above condition is not satisfied; therefore, the robot runs positively: Approach ball task, and the node produces ApproachBall: approach_ball.\n",
    "* Similarly, the robot analyses if the ball is grasped. (Imagine the robot gripper is equipped with dedicated sensors). Here, the robot detected that the ball was not grasped, so the node prints: [ Grasped: NO ].\n",
    "* After running the Graspball task, the node produces GripperInterface::close.\n",
    "* The Sequence returns TRUE.\n",
    "* PlaceBall task can be performed, so the message is printed PlaceBall: ball_placed."
   ]
  },
  {
   "cell_type": "markdown",
   "metadata": {},
   "source": [
    "<div class=\"bg-primary text-center\">\n",
    "    - End of Analysis -\n",
    "</div>"
   ]
  },
  {
   "cell_type": "markdown",
   "metadata": {},
   "source": [
    "<div class=\"bg-success text-center\">\n",
    "    - End of Exercise 1 -\n",
    "</div>"
   ]
  },
  {
   "cell_type": "markdown",
   "metadata": {},
   "source": [
    "<div>\n",
    "    <h2 class=\"text-center\">\n",
    "        <span class=\"text-primary\">2.2</span>\n",
    "        &nbsp;\n",
    "        <span class=\"\">Concept of Behavior Trees</span>\n",
    "    </h2>\n",
    "</div>"
   ]
  },
  {
   "cell_type": "markdown",
   "metadata": {},
   "source": [
    "**We introduced a high-level concept of abstraction in the robotic software domain. Therefore, it is reasonable to elaborate on the location of this abstraction. You can consider the following abstraction stack and reassume your previous assumptions.**\n",
    "\n",
    "* Human beings stay at the top of this stack. The requirements for the robot application flow down. Using an inherited set of skills and BT concepts, humans can architect the logical reasoning of the required robot application.\n",
    "* Humans use Behavior Trees to model the logical connection between robot tasks. Later, you will learn that the model is performed in an XML file. Below logical abstraction, you face the implementation of BTs.\n",
    "* In the next unit, you will deeply investigate this layer and specific C++ frameworks. (BehaviourTree.CPP) allowing the construction of BT. The definition of the robot tasks (program function in C++) completes the following stack."
   ]
  },
  {
   "cell_type": "markdown",
   "metadata": {},
   "source": [
    "<img src=\"images/u1_5.png\" width=\"400\" />"
   ]
  },
  {
   "cell_type": "markdown",
   "metadata": {},
   "source": [
    "Following the robot program configuration and transitions, you can specify that the BT organizes the transitions of autonomous agents (robots) between tasks (simple components).\n",
    "\n",
    "BT is formally defined as a directed Root tree with core nodes called control flow nodes and leaf nodes called execution nodes. You employ the usual language of parent and child for each connected node. The Root is the only node with no parents; the other nodes have one parent. There is at least one child in each control flow node. A node's children are shown graphically underneath."
   ]
  },
  {
   "cell_type": "markdown",
   "metadata": {},
   "source": [
    "BehaviourTree.CPP framework will be broadly discussed in the next unit. Here, however, you define a simple BT component and depict C++ implementations you can run in your web shell (terminal). \n",
    "\n",
    "Now, define the first BT block: **Sequence**. "
   ]
  },
  {
   "cell_type": "markdown",
   "metadata": {},
   "source": [
    "<img src=\"images/u1_0.png\" width=\"800\" />"
   ]
  },
  {
   "cell_type": "markdown",
   "metadata": {},
   "source": [
    "Take a look at the tick and callback flow and study the following diagrams:"
   ]
  },
  {
   "cell_type": "markdown",
   "metadata": {},
   "source": [
    "<img src=\"images/u1_4.png\" width=\"800\" />"
   ]
  },
  {
   "cell_type": "markdown",
   "metadata": {},
   "source": [
    "The XML: describing the robot behavior (Sequence node) can be formulated. (You can come back to XML files later)."
   ]
  },
  {
   "cell_type": "code",
   "execution_count": null,
   "metadata": {},
   "outputs": [],
   "source": [
    "<root main_tree_to_execute = \"MainTree\" >\n",
    "\n",
    "     <BehaviorTree ID=\"MainTree\">\n",
    "        <Sequence name=\"root_sequence\">\n",
    "            <RobotTask1   name=\"task1\"/>\n",
    "            <RobotTask2   name=\"task2\"/>\n",
    "            <RobotTask3   name=\"task3\"/>\n",
    "        </Sequence>\n",
    "     </BehaviorTree>\n",
    "\n",
    " </root>"
   ]
  },
  {
   "cell_type": "markdown",
   "metadata": {},
   "source": [
    "<div class=\"bg-success text-center\">\n",
    "    - Exercise 2 -\n",
    "</div>"
   ]
  },
  {
   "cell_type": "markdown",
   "metadata": {},
   "source": [
    "<span class=\"badge badge-pill badge-primary\">\n",
    "    <i class=\"fa fa-play\"></i>\n",
    "    &nbsp;\n",
    "    Execute in Shell\n",
    "</span>"
   ]
  },
  {
   "cell_type": "code",
   "execution_count": null,
   "metadata": {},
   "outputs": [],
   "source": [
    "source ~/ros2_ws/install/setup.bash"
   ]
  },
  {
   "cell_type": "code",
   "execution_count": null,
   "metadata": {},
   "outputs": [],
   "source": [
    "cd ~/ros2_ws/src/bt_course_files/BehaviorTree.CPP/build/course_bt"
   ]
  },
  {
   "cell_type": "code",
   "execution_count": null,
   "metadata": {},
   "outputs": [],
   "source": [
    "./bt_u2_ex2"
   ]
  },
  {
   "cell_type": "markdown",
   "metadata": {},
   "source": [
    "<span class=\"badge badge-pill badge-primary\">\n",
    "    <i class=\"fa fa-play\"></i>\n",
    "    &nbsp;\n",
    "    Expected output\n",
    "</span>"
   ]
  },
  {
   "cell_type": "code",
   "execution_count": null,
   "metadata": {},
   "outputs": [],
   "source": [
    "RobotTask1: task1"
   ]
  },
  {
   "cell_type": "markdown",
   "metadata": {},
   "source": [
    "<div class=\"bg-primary text-center\">\n",
    "    - Short output analysis -\n",
    "</div>"
   ]
  },
  {
   "cell_type": "markdown",
   "metadata": {},
   "source": [
    "* Imagine the robot runs three tasks: find the ball, pick the ball, and place the ball - named task1, task2, and task3, respectively.  \n",
    "* Here, the tasks must successfully terminate the “main” task.\n",
    "* In this example, the first task is FAILURE, and the Sequence is FAILURE."
   ]
  },
  {
   "cell_type": "markdown",
   "metadata": {},
   "source": [
    "<div class=\"bg-primary text-center\">\n",
    "    - End of Analysis -\n",
    "</div>"
   ]
  },
  {
   "cell_type": "markdown",
   "metadata": {},
   "source": [
    "<div class=\"bg-success text-center\">\n",
    "    - End of Exercise 2 -\n",
    "</div>"
   ]
  },
  {
   "cell_type": "markdown",
   "metadata": {},
   "source": [
    "Though the BehaviourTree.CPP framework will be discussed later, look at the software implementation of the Sequential node (AND operator). Play with the flags for the robot task and change between **FAILURE** and **SUCCESS**. Then, compare the output. As you can see, the first Failure in the child node terminates the Sequence. To succeed in the Sequence, all nodes must return **SUCCESS**."
   ]
  },
  {
   "cell_type": "markdown",
   "metadata": {},
   "source": [
    "* A BT begins with the Root node, which provides signals that allow the execution of a node called ticks with a specific frequency, which is sent to its children. If and only if a node receives ticks, it is executed. If the execution is in progress, the child instantly returns Running to the parent, Success if the goal has been met, and Failure, otherwise.\n",
    "\n",
    "* There are four control flow nodes in the classical formulation (Sequence, Fallback, Parallel, and Decorator) and two types of execution nodes (Action and Condition).\n",
    "\n",
    "* The Sequence node runs an algorithm equivalent to routing ticks to its children from the left until it finds a child that returns either Failure or Running, then it returns Failure or Running to its parent. It only returns Success if all of its children also return Success. It should be noted that when a child returns Running or Failure, the Sequence node does not forward the ticks to the next child (if any). For simplicity, the Sequence node can be considered a logical AND function."
   ]
  },
  {
   "cell_type": "code",
   "execution_count": null,
   "metadata": {},
   "outputs": [],
   "source": [
    "#Do not run the cell\n",
    "\n",
    "BT::NodeStatus RobotTask1::tick()\n",
    "{\n",
    "    std::cout << \"RobotTask1: \" << this->name() << std::endl;\n",
    "    return BT::NodeStatus::FAILURE;\n",
    "}\n",
    "\n",
    "BT::NodeStatus RobotTask2::tick()\n",
    "{\n",
    "    std::cout << \"RobotTask2: \" << this->name() << std::endl;\n",
    "    return BT::NodeStatus::FAILURE;\n",
    "}\n",
    "\n",
    "BT::NodeStatus RobotTask3::tick()\n",
    "{\n",
    "    std::cout << \"RobotTask3: \" << this->name() << std::endl;\n",
    "    return BT::NodeStatus::SUCCESS;"
   ]
  },
  {
   "cell_type": "markdown",
   "metadata": {},
   "source": [
    "Below, see a definition of the next BT block: **Fallback**. "
   ]
  },
  {
   "cell_type": "markdown",
   "metadata": {},
   "source": [
    "<img src=\"images/u1_3.png\" width=\"800\" />"
   ]
  },
  {
   "cell_type": "markdown",
   "metadata": {},
   "source": [
    "**The Fallback node** conducts an algorithm, which entails sending the ticks to its children from the left until it locates a child that returns Success or Running. Then, it sends Success or Running to its parent in accordance with that discovery. If and only if all of its children also return Failure, it returns Failure. Note that when a child returns Running or Success, the Fallback node does not transmit the ticks to the subsequent child (if any), whether Running or Success.\n",
    "\n",
    "Following this simple approach, consider the Fallback node a logical OR function."
   ]
  },
  {
   "cell_type": "markdown",
   "metadata": {},
   "source": [
    "Take a close look at the tick and callback flow. Study the following diagrams:"
   ]
  },
  {
   "cell_type": "markdown",
   "metadata": {},
   "source": [
    "<img src=\"images/u1_6.png\" width=\"800\" />"
   ]
  },
  {
   "cell_type": "markdown",
   "metadata": {},
   "source": [
    "The XML describing the robot behavior (Fallback node) can be formulated as follows:"
   ]
  },
  {
   "cell_type": "code",
   "execution_count": null,
   "metadata": {},
   "outputs": [],
   "source": [
    "<root main_tree_to_execute = \"MainTree\" >\n",
    "\n",
    "     <BehaviorTree ID=\"MainTree\">\n",
    "        <Fallback name=\"root_sequence\">\n",
    "            <RobotTask1   name=\"task1\"/>\n",
    "            <RobotTask2   name=\"task2\"/>\n",
    "            <RobotTask3   name=\"task3\"/>\n",
    "        </Fallback>\n",
    "     </BehaviorTree>\n",
    "\n",
    " </root>"
   ]
  },
  {
   "cell_type": "markdown",
   "metadata": {},
   "source": [
    "<div class=\"bg-success text-center\">\n",
    "    - Exercise 3 -\n",
    "</div>"
   ]
  },
  {
   "cell_type": "markdown",
   "metadata": {},
   "source": [
    "<span class=\"badge badge-pill badge-primary\">\n",
    "    <i class=\"fa fa-play\"></i>\n",
    "    &nbsp;\n",
    "    Execute in Shell\n",
    "</span>"
   ]
  },
  {
   "cell_type": "code",
   "execution_count": null,
   "metadata": {},
   "outputs": [],
   "source": [
    "source ~/ros2_ws/install/setup.bash"
   ]
  },
  {
   "cell_type": "code",
   "execution_count": null,
   "metadata": {},
   "outputs": [],
   "source": [
    "cd ~/ros2_ws/src/bt_course_files/BehaviorTree.CPP/build/course_bt"
   ]
  },
  {
   "cell_type": "code",
   "execution_count": null,
   "metadata": {},
   "outputs": [],
   "source": [
    "./bt_u2_ex3"
   ]
  },
  {
   "cell_type": "markdown",
   "metadata": {},
   "source": [
    "<span class=\"badge badge-pill badge-primary\">\n",
    "    <i class=\"fa fa-play\"></i>\n",
    "    &nbsp;\n",
    "    Expected output\n",
    "</span>"
   ]
  },
  {
   "cell_type": "code",
   "execution_count": null,
   "metadata": {},
   "outputs": [],
   "source": [
    "RobotTask1: task1\n",
    "RobotTask2: task2"
   ]
  },
  {
   "cell_type": "markdown",
   "metadata": {},
   "source": [
    "<div class=\"bg-primary text-center\">\n",
    "    - Short Output Analysis -\n",
    "</div>"
   ]
  },
  {
   "cell_type": "markdown",
   "metadata": {},
   "source": [
    "* In this example, imagine the robot has to run three tasks - task1, task2, and task3.  \n",
    "* Here only one task has to be SUCCESS to return SUCCESFUL from the Fallback node (this is an OR logic function). \n",
    "* In this example, the first node returns FAILURE and prints RobotTask1: task1.\n",
    "* If task2 is SUCCESS, the node prints RobotTask2: task2, and the Fallback is SUCCESS. (The robot does not execute task3).  "
   ]
  },
  {
   "cell_type": "markdown",
   "metadata": {},
   "source": [
    "<div class=\"bg-primary text-center\">\n",
    "    - End of Analysis -\n",
    "</div>"
   ]
  },
  {
   "cell_type": "markdown",
   "metadata": {},
   "source": [
    "<div class=\"bg-success text-center\">\n",
    "    - End of Exercise 3 -\n",
    "</div>"
   ]
  },
  {
   "cell_type": "markdown",
   "metadata": {},
   "source": [
    "<div class=\"bg-primary text-center\">\n",
    "    - ROS2 Simulation -\n",
    "</div>"
   ]
  },
  {
   "cell_type": "markdown",
   "metadata": {},
   "source": [
    "Now, perform the simulation in the ROS2 framework. The BT for the simulation can be depicted as follows:"
   ]
  },
  {
   "cell_type": "markdown",
   "metadata": {},
   "source": [
    "<img src=\"images/u0_sim.png\" width=\"800\" />"
   ]
  },
  {
   "cell_type": "markdown",
   "metadata": {},
   "source": [
    "* In the following simulation, analyzing the BT from the top, you can see the Root connected to the Reactive Sequence. Later, the first Reactive Sequence is connected to:\n",
    "    * 1. BlackBoard (details later)\n",
    "    * 2. Second Reactive Sequence\n",
    "    * 3. Move robot\n",
    "\n",
    "* Skip BlackBoard and consider the second Reactive Sequence block (node). The Reactive Sequence works as a logical AND gate. If all inputs are TRUE, the AND gate output is also TRUE.\n",
    "\n",
    "* Here the robot rotates. This is TRUE, and after, the robot uses the laser to scan the obstacle-free way to go. This will be TRUE if you manually remove the obstacle. \n",
    "\n",
    "* After removal, the second Reactive Sequence becomes TRUE so the robot can perform the last action “attached” to the first Reactive Sequence.   "
   ]
  },
  {
   "cell_type": "markdown",
   "metadata": {},
   "source": [
    "Start the BT with the following commands:"
   ]
  },
  {
   "cell_type": "markdown",
   "metadata": {},
   "source": [
    "<span class=\"badge badge-pill badge-primary\">\n",
    "    <i class=\"fa fa-play\"></i>\n",
    "    &nbsp;\n",
    "    Execute in Shell #1\n",
    "</span>"
   ]
  },
  {
   "cell_type": "code",
   "execution_count": null,
   "metadata": {},
   "outputs": [],
   "source": [
    "cd ~/ros2_ws/build/behaviortree_ros2"
   ]
  },
  {
   "cell_type": "code",
   "execution_count": null,
   "metadata": {},
   "outputs": [],
   "source": [
    "./test_unit1"
   ]
  },
  {
   "cell_type": "markdown",
   "metadata": {},
   "source": [
    "See the robot's expected behavior.\n",
    "\n",
    "The robot will start spinning in the initial room:"
   ]
  },
  {
   "cell_type": "markdown",
   "metadata": {},
   "source": [
    "<img src=\"images/bt-demo1.gif\" width=\"600\" />"
   ]
  },
  {
   "cell_type": "markdown",
   "metadata": {},
   "source": [
    "After removing the wall, the robot will be able to move to the contiguous room:"
   ]
  },
  {
   "cell_type": "markdown",
   "metadata": {},
   "source": [
    "<img src=\"images/bt-demo2.gif\" width=\"600\" />"
   ]
  },
  {
   "cell_type": "markdown",
   "metadata": {},
   "source": [
    "<img src=\"images/bt-demo3.gif\" width=\"600\" />"
   ]
  },
  {
   "cell_type": "markdown",
   "metadata": {},
   "source": [
    "## Remember you can learn more about Behavior Trees for ROS2 in our course in the Academy:"
   ]
  },
  {
   "cell_type": "markdown",
   "metadata": {},
   "source": [
    "<a href=\"https://app.theconstructsim.com/Course/131\" target=\"_blank\">Behavior Trees for ROS2</a>"
   ]
  },
  {
   "cell_type": "markdown",
   "metadata": {},
   "source": [
    "<a href=\"https://app.theconstructsim.com/Course/131\" target=\"_blank\"><img src=\"images/bt-course.png\" width=\"\" /></a>"
   ]
  },
  {
   "cell_type": "markdown",
   "metadata": {},
   "source": [
    "# Build the future, Become a ROS DEVELOPER!"
   ]
  }
 ],
 "metadata": {
  "colab": {
   "collapsed_sections": [
    "-gXVv0x7JCVH",
    "DWJVcmhj0PAI",
    "cUYXevdcdmvz",
    "tAtKbJLddtts",
    "dHky_ri5dtqv",
    "OOVbIGbBfABL",
    "mAV21bUTlsdK"
   ],
   "name": "unit2.ipynb",
   "provenance": []
  },
  "kernelspec": {
   "display_name": "Python 2",
   "language": "python",
   "name": "python2"
  },
  "language_info": {
   "codemirror_mode": {
    "name": "ipython",
    "version": 2
   },
   "file_extension": ".py",
   "mimetype": "text/x-python",
   "name": "python",
   "nbconvert_exporter": "python",
   "pygments_lexer": "ipython2",
   "version": "2.7.16"
  }
 },
 "nbformat": 4,
 "nbformat_minor": 1
}
