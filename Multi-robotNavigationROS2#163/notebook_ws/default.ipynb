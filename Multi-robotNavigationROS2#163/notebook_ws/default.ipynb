{
 "cells": [
  {
   "cell_type": "markdown",
   "metadata": {
    "colab_type": "text",
    "id": "VKVmOzupi70R"
   },
   "source": [
    "<img src=\"images/logos/The-Construct-logo-new.png\" width=\"700\">"
   ]
  },
  {
   "cell_type": "markdown",
   "metadata": {},
   "source": [
    "# PRESENTS..."
   ]
  },
  {
   "cell_type": "markdown",
   "metadata": {},
   "source": [
    "# ROS Developers Open Class n.163"
   ]
  },
  {
   "cell_type": "markdown",
   "metadata": {},
   "source": [
    "<img src=\"images/OpenClass163.jpeg\" width=\"650\" />"
   ]
  },
  {
   "cell_type": "markdown",
   "metadata": {},
   "source": [
    "## How to Launch the Simulation"
   ]
  },
  {
   "cell_type": "markdown",
   "metadata": {},
   "source": [
    "To start the simulation, first we'll need to source our workspace:\n",
    "\n",
    "- Open a terminal window by clicking on the shell icon on the bottom left side of your screen:\n",
    "\n",
    "<img src=\"images/shell-superapp.png\" width=\"450\" />\n",
    "\n",
    "- Copy and paste the following terminal commands in your shell:\n"
   ]
  },
  {
   "cell_type": "markdown",
   "metadata": {},
   "source": [
    "<span class=\"badge badge-pill badge-primary\">\n",
    "    <i class=\"fa fa-play\"></i>\n",
    "    &nbsp;\n",
    "    Execute in Shell\n",
    "</span>"
   ]
  },
  {
   "cell_type": "code",
   "execution_count": null,
   "metadata": {},
   "outputs": [],
   "source": [
    "cd ~/ros2_ws/src\n",
    "./start_turtlebot3_multi.sh"
   ]
  },
  {
   "cell_type": "markdown",
   "metadata": {},
   "source": [
    "And that's it! You should be able to see the simulation and control everything as if it was the real robot if you go to the Gazebo button in the bottom left side of your screen:\n",
    "\n",
    "<img src=\"images/gazebo-icon.png\" width=\"100\" />\n",
    "\n",
    "\n",
    "**Wait around 30 seconds maximum** for the simulaion to start and you should see this simulation now:\n",
    "\n",
    "\n",
    "<img src=\"images/multi-nav.png\" width=\"800\" />"
   ]
  },
  {
   "cell_type": "markdown",
   "metadata": {
    "colab_type": "text",
    "id": "VKVmOzupi70R"
   },
   "source": [
    "<div class=\"jumbotron m-0\">\n",
    "    <hr />\n",
    "    <h1 class=\"text-center\">\n",
    "        <span class=\"text-primary\">\n",
    "            Multi-robot Navigation\n",
    "        </span>\n",
    "    </h1>\n",
    "    <hr />\n",
    "</div>"
   ]
  },
  {
   "cell_type": "markdown",
   "metadata": {},
   "source": [
    "## Configuring the robots for multi-robot environments"
   ]
  },
  {
   "cell_type": "markdown",
   "metadata": {},
   "source": [
    "If you have a multi-robot environment, each robot will likely have the same `/cmd_vel` topic name and the same `base_footprint` frame name, and even the same control node name. \n",
    "\n",
    "This is not correct for multi-robot environments because the navigation algorithm cannot identify which robot it is talking to."
   ]
  },
  {
   "cell_type": "markdown",
   "metadata": {},
   "source": [
    "So first, correctly configure your robots, and bringup separating *topics*, *frames*, and *node names* into `namespaces`. **THIS IS NOT THE SUBJECT FOR THIS COURSE**. So, for the rest of this unit, you will assume that `namespaces` properly separate your robots. \n",
    "\n",
    "The `namespace` is the label that you will assign to each robot (for example, tb3_0, tb3_1, etc.). So, each robot ›may have the same topics, frames, and node names, but all of them will start with a unique `namespace` that identifies that robot."
   ]
  },
  {
   "cell_type": "markdown",
   "metadata": {},
   "source": [
    "The configuration of robots for proper usage of the `namespaces` is done at:\n",
    "1. **In simulated robots**: at the URDF description file and the Gazebo plugins\n",
    "2. **In real robots**: at the bringup routine, provided by the vendor\n",
    "\n",
    "If the URDF or plugins are not correctly created to allow `namespaces`, or if the bringup is not properly created, you can have difficulty making your robots boot in `namespaces` mode.\n",
    "\n",
    "**IMPORTANT**: It is mandatory that your robots already work separated by `namespaces`. In this course, we did it for you. However, if you want to apply this unit to your own robot, you can do that job yourself. "
   ]
  },
  {
   "cell_type": "markdown",
   "metadata": {},
   "source": [
    "Ensure that each of your robots has a specific name for:\n",
    "* Topics\n",
    "* Frames \n",
    "* Nodes\n",
    "\n",
    "You may need to touch the URDF model of your robot and the configuration of your drivers (for sensors and actuators), to include the namespaces in them."
   ]
  },
  {
   "cell_type": "markdown",
   "metadata": {},
   "source": [
    "In this unit, **the simulation is properly set up with two TurtleBot3 robots, one named tb3_0 and the other tb3_1**. Check it."
   ]
  },
  {
   "cell_type": "markdown",
   "metadata": {},
   "source": [
    "#### Check the node names"
   ]
  },
  {
   "cell_type": "markdown",
   "metadata": {},
   "source": [
    "Make a list of the nodes running:"
   ]
  },
  {
   "cell_type": "code",
   "execution_count": null,
   "metadata": {},
   "outputs": [],
   "source": [
    "ros2 node list"
   ]
  },
  {
   "cell_type": "markdown",
   "metadata": {},
   "source": [
    "You should get something like this:"
   ]
  },
  {
   "cell_type": "code",
   "execution_count": null,
   "metadata": {},
   "outputs": [],
   "source": [
    "/gazebo\n",
    "/tb3_0/robot_state_publisher\n",
    "/tb3_0/turtlebot3_diff_drive\n",
    "/tb3_0/turtlebot3_imu\n",
    "/tb3_0/turtlebot3_joint_state\n",
    "/tb3_0/turtlebot3_laserscan\n",
    "/tb3_1/robot_state_publisher\n",
    "/tb3_1/turtlebot3_diff_drive\n",
    "/tb3_1/turtlebot3_imu\n",
    "/tb3_1/turtlebot3_joint_state\n",
    "/tb3_1/turtlebot3_laserscan"
   ]
  },
  {
   "cell_type": "markdown",
   "metadata": {},
   "source": [
    "As you can see, each node related to a robot starts with the `namespace` of that robot."
   ]
  },
  {
   "cell_type": "markdown",
   "metadata": {},
   "source": [
    "#### Check the topic names"
   ]
  },
  {
   "cell_type": "markdown",
   "metadata": {},
   "source": [
    "Make a listing of the topics:"
   ]
  },
  {
   "cell_type": "code",
   "execution_count": null,
   "metadata": {},
   "outputs": [],
   "source": [
    "ros2 topic list"
   ]
  },
  {
   "cell_type": "markdown",
   "metadata": {},
   "source": [
    "You should get the following:"
   ]
  },
  {
   "cell_type": "code",
   "execution_count": null,
   "metadata": {},
   "outputs": [],
   "source": [
    "/clock\n",
    "/parameter_events\n",
    "/performance_metrics\n",
    "/rosout\n",
    "/tb3_0/cmd_vel\n",
    "/tb3_0/imu\n",
    "/tb3_0/joint_states\n",
    "/tb3_0/odom\n",
    "/tb3_0/robot_description\n",
    "/tb3_0/scan\n",
    "/tb3_1/cmd_vel\n",
    "/tb3_1/imu\n",
    "/tb3_1/joint_states\n",
    "/tb3_1/odom\n",
    "/tb3_1/robot_description\n",
    "/tb3_1/scan\n",
    "/tf\n",
    "/tf_static"
   ]
  },
  {
   "cell_type": "markdown",
   "metadata": {},
   "source": [
    "As you can see, each robot has a different IMU, odom, scan, camera, and joint states topic, separated by the robot `namespace`."
   ]
  },
  {
   "cell_type": "markdown",
   "metadata": {},
   "source": [
    "<div class=\"bg-info text-center\">\n",
    "    - Notes -\n",
    "</div>"
   ]
  },
  {
   "cell_type": "markdown",
   "metadata": {},
   "source": [
    "To move the robots around, you can use the following commands:"
   ]
  },
  {
   "cell_type": "code",
   "execution_count": null,
   "metadata": {},
   "outputs": [],
   "source": [
    "ros2 run teleop_twist_keyboard teleop_twist_keyboard --ros-args --remap cmd_vel:=/tb3_0/cmd_vel"
   ]
  },
  {
   "cell_type": "code",
   "execution_count": null,
   "metadata": {},
   "outputs": [],
   "source": [
    "ros2 run teleop_twist_keyboard teleop_twist_keyboard --ros-args --remap cmd_vel:=/tb3_1/cmd_vel"
   ]
  },
  {
   "cell_type": "markdown",
   "metadata": {},
   "source": [
    "<div class=\"bg-info text-center\">\n",
    "    - End of Notes -\n",
    "</div>"
   ]
  },
  {
   "cell_type": "markdown",
   "metadata": {},
   "source": [
    "#### Check the frame names"
   ]
  },
  {
   "cell_type": "markdown",
   "metadata": {},
   "source": [
    "Print the full TF for this ROS2 system with two robots.\n",
    "\n",
    "For that, use the following command:"
   ]
  },
  {
   "cell_type": "code",
   "execution_count": null,
   "metadata": {},
   "outputs": [],
   "source": [
    "cd ~/ros2_ws/src; ros2 run tf2_tools view_frames"
   ]
  },
  {
   "cell_type": "markdown",
   "metadata": {},
   "source": [
    "That will generate a `frames.pdf` file inside the directory `/home/user/ros2_ws/src`. Download that pdf using the IDE *Download* option, and open it. It should look like the following:"
   ]
  },
  {
   "cell_type": "markdown",
   "metadata": {},
   "source": [
    "![](images/two_robots_tf_v2.png)"
   ]
  },
  {
   "cell_type": "markdown",
   "metadata": {},
   "source": [
    "## Configuring a navigation system for each robot"
   ]
  },
  {
   "cell_type": "markdown",
   "metadata": {},
   "source": [
    "In order to have all the robots autonomously moving, **you need to configure and launch a complete navigation system FOR EACH ROBOT**. This means, one `localization` system, one `controller_server`, one `planner_server`, one `bt-navigator`, etc., for each robot. \n",
    "\n",
    "The only one that will be common to all the robots is the `map_server`. **There will be a single `map_server` for all the robots** because all the robots will use the same map. So start by launching it."
   ]
  },
  {
   "cell_type": "markdown",
   "metadata": {},
   "source": [
    "### Multi-robot localization"
   ]
  },
  {
   "cell_type": "markdown",
   "metadata": {},
   "source": [
    "Now, launch a `localization` system for each robot. This means launching two `amcl` nodes, each one configured appropriately for the robot it must operate."
   ]
  },
  {
   "cell_type": "markdown",
   "metadata": {},
   "source": [
    "<div class=\"bg-danger text-center\">\n",
    "    - Exercise 6.2 -\n",
    "</div>"
   ]
  },
  {
   "cell_type": "markdown",
   "metadata": {},
   "source": [
    "#### Step 1. Add a `namespace` to the launches of `amcl` nodes"
   ]
  },
  {
   "cell_type": "markdown",
   "metadata": {},
   "source": [
    "* You need to launch two `amcl` nodes.\n",
    "* To each node launch, add a `namespace` argument with the `namespace` of the robot to which that `amcl` node corresponds."
   ]
  },
  {
   "cell_type": "markdown",
   "metadata": {},
   "source": [
    "**IMPORTANT: By adding a namespace, the node launched will modify all its topics, node name, and services, appending the `namespace` to the beginning of the names.**\n",
    "\n",
    "**IMPORTANT 2: the frames indicated in the config file will not be automatically modified by adding a `namespace` in the `launch` file. Those need to be manually modified on the config file itself (see below)**"
   ]
  },
  {
   "cell_type": "markdown",
   "metadata": {},
   "source": [
    "Example (for the `tb3_0` robot):"
   ]
  },
  {
   "cell_type": "code",
   "execution_count": null,
   "metadata": {},
   "outputs": [],
   "source": [
    "Node(\n",
    "            namespace='tb3_0',\n",
    "            package='nav2_amcl',\n",
    "            executable='amcl',\n",
    "            name='amcl',\n",
    "            output='screen',\n",
    "            parameters=[tb3_0_config]\n",
    "        ),"
   ]
  },
  {
   "cell_type": "markdown",
   "metadata": {},
   "source": [
    "The node launched with that code will not be named `amcl`. Instead, it will be named `tb3_0/amcl`. The same will happen with its topics and services."
   ]
  },
  {
   "cell_type": "markdown",
   "metadata": {},
   "source": [
    "* Inside the `launch` directory of the `localization_server` package, create another launch file named `multi_localization.launch.py` with the same content as the previous launch file.\n",
    "* Modify the new launch to now launch **TWO** `amcl` nodes, each with a different `namespace` according to the robot it will localize.\n",
    "* Remember to modify each node's `parameters` argument to point to **TWO** different config files."
   ]
  },
  {
   "cell_type": "markdown",
   "metadata": {},
   "source": [
    "#### Step 2. Create a specific config file for each robot "
   ]
  },
  {
   "cell_type": "markdown",
   "metadata": {},
   "source": [
    "* Create two copies of the `amcl_config.yaml` file, each one with the name of the robot that belongs to, at the beginning of the name. Ex. `tb3_0_amcl_config.yaml`.\n",
    "* Modify the content of each config file to accommodate its robot. You have to modify the following:\n",
    "    1. The first line must contain the **full new name** of the node.\n",
    "    2. All frames must be modified to include the `namespace`. The only frame that does not have to be changed is the `global_frame_id` because there is a single global frame for all the robots (the one on the map).\n",
    "    3. Topics do not need to be modified because they are automatically modified by the `namespace` argument of the launch file. This does not apply to frames.\n",
    "    4. The `map_topic` parameter must be forced to `/map`. If you do not force it with the `/`, it automatically connects to `tb3_0/map`, which is not the topic that the map server is publishing.\n",
    "* Add two config file lines in the `multi_localization.launch.py`, one for each `amcl` config.\n",
    "* Assign the proper config file to the appropriate `amcl` `parameters` field."
   ]
  },
  {
   "cell_type": "markdown",
   "metadata": {},
   "source": [
    "Example for `tb3_0`:"
   ]
  },
  {
   "cell_type": "markdown",
   "metadata": {},
   "source": [
    "<p style=\"background:green;color:white;\">tb3_0_amcl_config.yaml</p>"
   ]
  },
  {
   "cell_type": "code",
   "execution_count": null,
   "metadata": {},
   "outputs": [],
   "source": [
    "tb3_0/amcl:\n",
    "  ros__parameters:\n",
    "    use_sim_time: True\n",
    "    alpha1: 0.2\n",
    "    alpha2: 0.2\n",
    "    alpha3: 0.2\n",
    "    alpha4: 0.2\n",
    "    alpha5: 0.2\n",
    "    base_frame_id: \"tb3_0/base_footprint\"\n",
    "    beam_skip_distance: 0.5\n",
    "    beam_skip_error_threshold: 0.9\n",
    "    beam_skip_threshold: 0.3\n",
    "    do_beamskip: false\n",
    "    global_frame_id: \"map\"\n",
    "    lambda_short: 0.1\n",
    "    laser_likelihood_max_dist: 2.0\n",
    "    laser_max_range: 100.0\n",
    "    laser_min_range: -1.0\n",
    "    laser_model_type: \"likelihood_field\"\n",
    "    max_beams: 60\n",
    "    max_particles: 8000\n",
    "    min_particles: 200\n",
    "    odom_frame_id: \"tb3_0/odom\"\n",
    "    pf_err: 0.05\n",
    "    pf_z: 0.99\n",
    "    recovery_alpha_fast: 0.0\n",
    "    recovery_alpha_slow: 0.0\n",
    "    resample_interval: 1\n",
    "    robot_model_type: \"differential\"\n",
    "    save_pose_rate: 0.5\n",
    "    sigma_hit: 0.2\n",
    "    tf_broadcast: true\n",
    "    transform_tolerance: 1.0\n",
    "    update_min_a: 0.2\n",
    "    update_min_d: 0.25\n",
    "    z_hit: 0.5\n",
    "    z_max: 0.05\n",
    "    z_rand: 0.5\n",
    "    z_short: 0.05\n",
    "    scan_topic: \"scan\"\n",
    "    map_topic: \"/map\"\n",
    "    # ACTIVATE THE set_initial_pose WHEN YOU HAVE A PROPER initial_pose, by uncommenting the code below\n",
    "    #set_initial_pose: true\n",
    "    #initial_pose:\n",
    "    # x: 7.778\n",
    "    # y: -9.589\n",
    "    # z: 0.0\n",
    "    # a: -0.211\n",
    "\n",
    "tb3_0/amcl_map_client:\n",
    "  ros__parameters:\n",
    "    use_sim_time: True\n",
    "\n",
    "tb3_0/amcl_rclcpp_node:\n",
    "  ros__parameters:\n",
    "    use_sim_time: True"
   ]
  },
  {
   "cell_type": "markdown",
   "metadata": {},
   "source": [
    "#### Step 3. Add the nodes to the lifecycle manager"
   ]
  },
  {
   "cell_type": "markdown",
   "metadata": {},
   "source": [
    "In the launch file, remember to tell the `lifecycle_manager` to launch the **TWO** `amcl` nodes. You need to provide **the full node names** with their `namespaces`."
   ]
  },
  {
   "cell_type": "code",
   "execution_count": null,
   "metadata": {},
   "outputs": [],
   "source": [
    "Node(\n",
    "    package='nav2_lifecycle_manager',\n",
    "    executable='lifecycle_manager',\n",
    "    name='lifecycle_manager_localization',\n",
    "    output='screen',\n",
    "    parameters=[{'use_sim_time': True},\n",
    "                {'autostart': True},\n",
    "                {'bond_timeout':0.0},\n",
    "                {'node_names': ['map_server', 'tb3_0/amcl', 'tb3_1/amcl']}]\n",
    ")"
   ]
  },
  {
   "cell_type": "markdown",
   "metadata": {},
   "source": [
    "**IMPORTANT:** Please notice that you are adding a new parameter `{'bond_timeout':0.0},` required to prevent launching errors."
   ]
  },
  {
   "cell_type": "markdown",
   "metadata": {},
   "source": [
    "#### Step 4. Modify the `map_server` launch"
   ]
  },
  {
   "cell_type": "markdown",
   "metadata": {},
   "source": [
    "To prevent errors, specify the `topic_name` and `frame_id` of the `map_server`. Unfortunately, those two parameters were not configured when you did the single robot `map_server`."
   ]
  },
  {
   "cell_type": "code",
   "execution_count": null,
   "metadata": {},
   "outputs": [],
   "source": [
    "Node(\n",
    "    package='nav2_map_server',\n",
    "    executable='map_server',\n",
    "    name='map_server',\n",
    "    output='screen',\n",
    "    parameters=[{'use_sim_time': True}, \n",
    "                {'topic_name':\"map\"},\n",
    "                {'frame_id':\"map\"},\n",
    "                {'yaml_filename':map_file}]\n",
    "),"
   ]
  },
  {
   "cell_type": "markdown",
   "metadata": {},
   "source": [
    "Also, remember to change the `map_file` to which the robot is pointing."
   ]
  },
  {
   "cell_type": "markdown",
   "metadata": {},
   "source": [
    "<p style=\"background:green;color:white;\">multi_localization.launch.py</p>"
   ]
  },
  {
   "cell_type": "code",
   "execution_count": null,
   "metadata": {},
   "outputs": [],
   "source": [
    "import os\n",
    "\n",
    "from ament_index_python.packages import get_package_share_directory\n",
    "from launch import LaunchDescription\n",
    "from launch_ros.actions import Node\n",
    "\n",
    "def generate_launch_description():\n",
    "    \n",
    "    tb3_0_config = os.path.join(get_package_share_directory('localization_server'), 'config', 'tb3_0_amcl_config.yaml')\n",
    "    tb3_1_config = os.path.join(get_package_share_directory('localization_server'), 'config', 'tb3_1_amcl_config.yaml')\n",
    "\n",
    "    map_file = os.path.join(get_package_share_directory('map_server'), 'config', 'turtlebot_area.yaml')\n",
    "\n",
    "    return LaunchDescription([\n",
    "        Node(\n",
    "            package='nav2_map_server',\n",
    "            executable='map_server',\n",
    "            name='map_server',\n",
    "            output='screen',\n",
    "            parameters=[{'use_sim_time': True}, \n",
    "                        {'topic_name':\"map\"},\n",
    "                        {'frame_id':\"map\"},\n",
    "                        {'yaml_filename':map_file}]\n",
    "        ),\n",
    "            \n",
    "        Node(\n",
    "            namespace='tb3_0',\n",
    "            package='nav2_amcl',\n",
    "            executable='amcl',\n",
    "            name='amcl',\n",
    "            output='screen',\n",
    "            parameters=[tb3_0_config]\n",
    "        ),\n",
    "\n",
    "        Node(\n",
    "             namespace='tb3_1',\n",
    "             package='nav2_amcl',\n",
    "             executable='amcl',\n",
    "             name='amcl',\n",
    "             output='screen',\n",
    "             parameters=[tb3_1_config]\n",
    "        ),\n",
    "\n",
    "        Node(\n",
    "            package='nav2_lifecycle_manager',\n",
    "            executable='lifecycle_manager',\n",
    "            name='lifecycle_manager_localization',\n",
    "            output='screen',\n",
    "            parameters=[{'use_sim_time': True},\n",
    "                        {'autostart': True},\n",
    "                        {'bond_timeout':0.0},\n",
    "                        {'node_names': ['map_server', 'tb3_0/amcl', 'tb3_1/amcl']}]\n",
    "        )\n",
    "    ])"
   ]
  },
  {
   "cell_type": "markdown",
   "metadata": {},
   "source": [
    "#### Step 5. Launch the new multi-robot localization"
   ]
  },
  {
   "cell_type": "markdown",
   "metadata": {},
   "source": [
    "* Compile, source and launch\n",
    "* You should get a message indicating that both `amcl` nodes are waiting for the initial position.\n",
    "* You will use RVIZ to initialize the robots."
   ]
  },
  {
   "cell_type": "markdown",
   "metadata": {},
   "source": [
    "#### Step 6. Configure RVIZ for multi-robot"
   ]
  },
  {
   "cell_type": "markdown",
   "metadata": {},
   "source": [
    "Launch RVIZ"
   ]
  },
  {
   "cell_type": "code",
   "execution_count": null,
   "metadata": {},
   "outputs": [],
   "source": [
    "rviz2"
   ]
  },
  {
   "cell_type": "markdown",
   "metadata": {},
   "source": [
    "* Load the RVIZ configuration of the localization unit.\n",
    "* Modify the topic of the `LaserScan` to point to the `tb3_0/scan` topic. Indicate `Color Transformer` as `FlatColor` and then assign to it a red color.\n",
    "* Add another `LaserScan` display and make it point to the `tb3_1/scan` topic. Indicate `Color Transformer` as `FlatColor` and then assign to it a blue color.\n",
    "* Modify the `RobotModel` display as follows:\n",
    "    * In the `Description Source`, select `Topic`.\n",
    "    * In the `Description Topic`, indicate the topic `/tb3_0/robot_description`. That is the topic that is publishing the robot model.\n",
    "    * In the `TF prefix`, indicate the namespace of the robot. For tb3_0, indicate `tb3_0`.\n",
    "* Add another `RobotModel` and configure it the same way for the `tb3_1` robot.\n",
    "* Add the `Panel` of `Tool Properties`. You will modify the topics that send `2D Pose Estimate` and `2D Goal Pose` to the different robots.\n",
    "* In the `Tool Properties`, select the `2D Pose Estimate` topic and write the one for the tb3_1 robot `/tb3_1/initialpose`."
   ]
  },
  {
   "cell_type": "markdown",
   "metadata": {},
   "source": [
    "![](images/init_pose_topic.png)"
   ]
  },
  {
   "cell_type": "markdown",
   "metadata": {},
   "source": [
    "* Then click on the button of the `2D Pose Estimate` and provide an initial position for the first robot (the `tb3_1`)\n",
    "* Repeat the `2D Pose Estimate` process for `tb3_0`.\n",
    "* Now both robots must be localized."
   ]
  },
  {
   "cell_type": "markdown",
   "metadata": {},
   "source": [
    "![](images/two_robots_localized_v2.png)"
   ]
  },
  {
   "cell_type": "markdown",
   "metadata": {},
   "source": [
    "**IMPORTANT**: Remember to save this RVIZ configuration."
   ]
  },
  {
   "cell_type": "markdown",
   "metadata": {},
   "source": [
    "Check how the localization of both robots has modified the TF. Run the following command:"
   ]
  },
  {
   "cell_type": "code",
   "execution_count": null,
   "metadata": {},
   "outputs": [],
   "source": [
    "ros2 run tf2_tools view_frames"
   ]
  },
  {
   "cell_type": "markdown",
   "metadata": {},
   "source": [
    "The TF must now show the connection between the two robot branches. Each `amcl` node has published a transform between the `map` and the `odom`frame (`tb3_0/odom` and `tb3_1/odom`)."
   ]
  },
  {
   "cell_type": "markdown",
   "metadata": {},
   "source": [
    "![](images/global_tf_localized.png)"
   ]
  },
  {
   "cell_type": "markdown",
   "metadata": {},
   "source": [
    "## Remember you can learn more about ROS2 Navigation in our course in the Academy:"
   ]
  },
  {
   "cell_type": "markdown",
   "metadata": {},
   "source": [
    "<a href=\"https://app.theconstructsim.com/Course/109\" target=\"_blank\">ROS2 Navigation</a>"
   ]
  },
  {
   "cell_type": "markdown",
   "metadata": {},
   "source": [
    "<a href=\"https://app.theconstructsim.com/Course/109\" target=\"_blank\"><img src=\"images/ros2-nav-gala.png\" width=\"\" /></a>"
   ]
  },
  {
   "cell_type": "markdown",
   "metadata": {},
   "source": [
    "# Build the future, Become a ROS DEVELOPER!"
   ]
  }
 ],
 "metadata": {
  "colab": {
   "collapsed_sections": [
    "-gXVv0x7JCVH",
    "DWJVcmhj0PAI",
    "cUYXevdcdmvz",
    "tAtKbJLddtts",
    "dHky_ri5dtqv",
    "OOVbIGbBfABL",
    "mAV21bUTlsdK"
   ],
   "name": "unit2.ipynb",
   "provenance": []
  },
  "kernelspec": {
   "display_name": "Python 2",
   "language": "python",
   "name": "python2"
  },
  "language_info": {
   "codemirror_mode": {
    "name": "ipython",
    "version": 2
   },
   "file_extension": ".py",
   "mimetype": "text/x-python",
   "name": "python",
   "nbconvert_exporter": "python",
   "pygments_lexer": "ipython2",
   "version": "2.7.16"
  }
 },
 "nbformat": 4,
 "nbformat_minor": 1
}
